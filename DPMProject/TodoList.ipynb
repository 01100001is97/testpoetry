{
 "cells": [
  {
   "attachments": {},
   "cell_type": "markdown",
   "metadata": {},
   "source": [
    "*   패스파인더 캐릭터 상속\n",
    "*   덱스 아이템 프리셋\n",
    "*   패스파인더 시뮬레이션 생성\n",
    "*   패스파인더 스킬 모델링\n",
    "\n",
    "*   구글 코랩 테스트 모델 만들기\n",
    "*\n",
    "\n"
   ]
  }
 ],
 "metadata": {
  "language_info": {
   "name": "python"
  },
  "orig_nbformat": 4
 },
 "nbformat": 4,
 "nbformat_minor": 2
}
