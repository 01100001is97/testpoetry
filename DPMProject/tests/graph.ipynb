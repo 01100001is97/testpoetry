{
 "cells": [
  {
   "cell_type": "code",
   "execution_count": 1,
   "metadata": {},
   "outputs": [
    {
     "data": {
      "application/vnd.jupyter.widget-view+json": {
       "model_id": "cc66467d67754db0b6ac07a006c1902f",
       "version_major": 2,
       "version_minor": 0
      },
      "text/plain": [
       "Button(description='Add Data', style=ButtonStyle())"
      ]
     },
     "metadata": {},
     "output_type": "display_data"
    }
   ],
   "source": [
    "import matplotlib.pyplot as plt\n",
    "import numpy as np\n",
    "from ipywidgets import Button\n",
    "from IPython.display import display\n",
    "import datetime\n",
    "\n",
    "# 데이터를 저장할 리스트\n",
    "data = []\n",
    "times = []\n",
    "\n",
    "# 그래프를 그리는 함수\n",
    "def draw_graph():\n",
    "    plt.figure()  # 새로운 그래프를 생성합니다.\n",
    "    plt.plot(times, data)  # 데이터를 그래프로 그립니다.\n",
    "    plt.gcf().autofmt_xdate()  # x축의 레이블이 겹치지 않도록 합니다.\n",
    "    plt.show()\n",
    "\n",
    "# 버튼 클릭 이벤트를 처리하는 함수\n",
    "def on_button_click(event):\n",
    "    data.append(np.random.rand())  # 랜덤한 값을 데이터에 추가합니다.\n",
    "    times.append(datetime.datetime.now())  # 현재 시간을 추가합니다.\n",
    "    draw_graph()  # 그래프를 그립니다.\n",
    "\n",
    "# 버튼을 생성하고, 클릭 이벤트를 설정합니다.\n",
    "button = Button(description=\"Add Data\")\n",
    "button.on_click(on_button_click)\n",
    "display(button)\n",
    "\n",
    "# 처음 데이터를 추가하고 그래프를 그립니다.\n",
    "on_button_click(None)\n"
   ]
  }
 ],
 "metadata": {
  "kernelspec": {
   "display_name": "base",
   "language": "python",
   "name": "python3"
  },
  "language_info": {
   "codemirror_mode": {
    "name": "ipython",
    "version": 3
   },
   "file_extension": ".py",
   "mimetype": "text/x-python",
   "name": "python",
   "nbconvert_exporter": "python",
   "pygments_lexer": "ipython3",
   "version": "3.10.9"
  },
  "orig_nbformat": 4
 },
 "nbformat": 4,
 "nbformat_minor": 2
}
